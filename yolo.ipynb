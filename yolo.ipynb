{
  "nbformat": 4,
  "nbformat_minor": 0,
  "metadata": {
    "colab": {
      "provenance": [],
      "gpuType": "T4",
      "include_colab_link": true
    },
    "kernelspec": {
      "name": "python3",
      "display_name": "Python 3"
    },
    "language_info": {
      "name": "python"
    },
    "accelerator": "GPU"
  },
  "cells": [
    {
      "cell_type": "markdown",
      "metadata": {
        "id": "view-in-github",
        "colab_type": "text"
      },
      "source": [
        "<a href=\"https://colab.research.google.com/github/anantterkar/CCTV-Footage-Review-Optimization/blob/main/yolo.ipynb\" target=\"_parent\"><img src=\"https://colab.research.google.com/assets/colab-badge.svg\" alt=\"Open In Colab\"/></a>"
      ]
    },
    {
      "cell_type": "code",
      "execution_count": null,
      "metadata": {
        "colab": {
          "base_uri": "https://localhost:8080/"
        },
        "id": "hHLe7CXybX4N",
        "outputId": "f5c2d63b-19dd-4fd0-d92c-74c25be0046e"
      },
      "outputs": [
        {
          "output_type": "stream",
          "name": "stdout",
          "text": [
            "\u001b[?25l     \u001b[90m━━━━━━━━━━━━━━━━━━━━━━━━━━━━━━━━━━━━━━━━\u001b[0m \u001b[32m0.0/645.2 kB\u001b[0m \u001b[31m?\u001b[0m eta \u001b[36m-:--:--\u001b[0m\r\u001b[2K     \u001b[91m━━━━━━━━━━━━\u001b[0m\u001b[91m╸\u001b[0m\u001b[90m━━━━━━━━━━━━━━━━━━━━━━━━━━━\u001b[0m \u001b[32m204.8/645.2 kB\u001b[0m \u001b[31m6.2 MB/s\u001b[0m eta \u001b[36m0:00:01\u001b[0m\r\u001b[2K     \u001b[91m━━━━━━━━━━━━━━━━━━━━━━━━━━━━━━━━━━━━━━\u001b[0m\u001b[90m╺\u001b[0m\u001b[90m━\u001b[0m \u001b[32m614.4/645.2 kB\u001b[0m \u001b[31m9.1 MB/s\u001b[0m eta \u001b[36m0:00:01\u001b[0m\r\u001b[2K     \u001b[90m━━━━━━━━━━━━━━━━━━━━━━━━━━━━━━━━━━━━━━━━\u001b[0m \u001b[32m645.2/645.2 kB\u001b[0m \u001b[31m8.0 MB/s\u001b[0m eta \u001b[36m0:00:00\u001b[0m\n",
            "\u001b[?25h"
          ]
        }
      ],
      "source": [
        "!pip install ultralytics -q"
      ]
    },
    {
      "cell_type": "code",
      "source": [
        "%%capture cap\n",
        "!yolo predict model = yolov8m.pt source = \"/content/output_snip_0.mp4\""
      ],
      "metadata": {
        "id": "U846cw_teYJt"
      },
      "execution_count": null,
      "outputs": []
    },
    {
      "cell_type": "code",
      "source": [
        "f = open(\"filename.txt\", \"w\")\n",
        "print(cap, file=f)\n",
        "f.close()"
      ],
      "metadata": {
        "id": "KAtZ5v1-Pkkt"
      },
      "execution_count": null,
      "outputs": []
    },
    {
      "cell_type": "code",
      "source": [
        "with open('filename.txt', 'r') as rfile:\n",
        "  frames = rfile.read()"
      ],
      "metadata": {
        "id": "BDO6VoROPwHT"
      },
      "execution_count": null,
      "outputs": []
    },
    {
      "cell_type": "code",
      "source": [
        "#split the str based on newline\n",
        "list_frames = frames.split(\"\\n\")\n",
        "list_frames = list_frames[3:-5]\n",
        "obj_in_frame = []\n",
        "obj_in_vid = []\n",
        "for i in list_frames:\n",
        "  temp = i.split(\" \")[5:-1]\n",
        "  #print(temp)\n",
        "  for j in temp:\n",
        "    if (j.isdigit())==False:\n",
        "      obj_in_vid.append(j)\n",
        "#print(obj_in_vid)\n",
        "\n",
        "  #print(temp[-3], temp[-2])\n",
        "#  obj_in_frame.append({temp[-3], temp[-2]})\n",
        "obj_in_vid = list(set(obj_in_vid))\n",
        "print(obj_in_vid)"
      ],
      "metadata": {
        "colab": {
          "base_uri": "https://localhost:8080/"
        },
        "id": "_3ciBouYRsXG",
        "outputId": "76da967d-757e-440b-b375-5f3692f3ed64"
      },
      "execution_count": null,
      "outputs": [
        {
          "output_type": "stream",
          "name": "stdout",
          "text": [
            "['plants,', 'umbrellas,', 'person,', 'plant,', 'persons,', 'potted', 'chairs,']\n"
          ]
        }
      ]
    },
    {
      "cell_type": "code",
      "source": [
        "!ffmpeg -i {\"/content/runs/detect/predict2/output_snip_0.avi\"} -vcodec libx264 {\"y-snip.mp4\"}"
      ],
      "metadata": {
        "colab": {
          "base_uri": "https://localhost:8080/"
        },
        "id": "57B6fsymsFtq",
        "outputId": "8a0af043-ceee-4159-f9ff-3cfcbb3464b7"
      },
      "execution_count": null,
      "outputs": [
        {
          "output_type": "stream",
          "name": "stdout",
          "text": [
            "ffmpeg version 4.4.2-0ubuntu0.22.04.1 Copyright (c) 2000-2021 the FFmpeg developers\n",
            "  built with gcc 11 (Ubuntu 11.2.0-19ubuntu1)\n",
            "  configuration: --prefix=/usr --extra-version=0ubuntu0.22.04.1 --toolchain=hardened --libdir=/usr/lib/x86_64-linux-gnu --incdir=/usr/include/x86_64-linux-gnu --arch=amd64 --enable-gpl --disable-stripping --enable-gnutls --enable-ladspa --enable-libaom --enable-libass --enable-libbluray --enable-libbs2b --enable-libcaca --enable-libcdio --enable-libcodec2 --enable-libdav1d --enable-libflite --enable-libfontconfig --enable-libfreetype --enable-libfribidi --enable-libgme --enable-libgsm --enable-libjack --enable-libmp3lame --enable-libmysofa --enable-libopenjpeg --enable-libopenmpt --enable-libopus --enable-libpulse --enable-librabbitmq --enable-librubberband --enable-libshine --enable-libsnappy --enable-libsoxr --enable-libspeex --enable-libsrt --enable-libssh --enable-libtheora --enable-libtwolame --enable-libvidstab --enable-libvorbis --enable-libvpx --enable-libwebp --enable-libx265 --enable-libxml2 --enable-libxvid --enable-libzimg --enable-libzmq --enable-libzvbi --enable-lv2 --enable-omx --enable-openal --enable-opencl --enable-opengl --enable-sdl2 --enable-pocketsphinx --enable-librsvg --enable-libmfx --enable-libdc1394 --enable-libdrm --enable-libiec61883 --enable-chromaprint --enable-frei0r --enable-libx264 --enable-shared\n",
            "  libavutil      56. 70.100 / 56. 70.100\n",
            "  libavcodec     58.134.100 / 58.134.100\n",
            "  libavformat    58. 76.100 / 58. 76.100\n",
            "  libavdevice    58. 13.100 / 58. 13.100\n",
            "  libavfilter     7.110.100 /  7.110.100\n",
            "  libswscale      5.  9.100 /  5.  9.100\n",
            "  libswresample   3.  9.100 /  3.  9.100\n",
            "  libpostproc    55.  9.100 / 55.  9.100\n",
            "Input #0, avi, from '/content/runs/detect/predict2/output_snip_0.avi':\n",
            "  Metadata:\n",
            "    software        : Lavf59.27.100\n",
            "  Duration: 00:00:08.78, start: 0.000000, bitrate: 40535 kb/s\n",
            "  Stream #0:0: Video: mjpeg (Baseline) (MJPG / 0x47504A4D), yuvj420p(pc, bt470bg/unknown/unknown), 1280x720, 40722 kb/s, 23 fps, 23 tbr, 23 tbn, 23 tbc\n",
            "Stream mapping:\n",
            "  Stream #0:0 -> #0:0 (mjpeg (native) -> h264 (libx264))\n",
            "Press [q] to stop, [?] for help\n",
            "\u001b[1;36m[libx264 @ 0x59489626d400] \u001b[0musing cpu capabilities: MMX2 SSE2Fast SSSE3 SSE4.2 AVX FMA3 BMI2 AVX2 AVX512\n",
            "\u001b[1;36m[libx264 @ 0x59489626d400] \u001b[0mprofile High, level 3.1, 4:2:0, 8-bit\n",
            "\u001b[1;36m[libx264 @ 0x59489626d400] \u001b[0m264 - core 163 r3060 5db6aa6 - H.264/MPEG-4 AVC codec - Copyleft 2003-2021 - http://www.videolan.org/x264.html - options: cabac=1 ref=3 deblock=1:0:0 analyse=0x3:0x113 me=hex subme=7 psy=1 psy_rd=1.00:0.00 mixed_ref=1 me_range=16 chroma_me=1 trellis=1 8x8dct=1 cqm=0 deadzone=21,11 fast_pskip=1 chroma_qp_offset=-2 threads=3 lookahead_threads=1 sliced_threads=0 nr=0 decimate=1 interlaced=0 bluray_compat=0 constrained_intra=0 bframes=3 b_pyramid=2 b_adapt=1 b_bias=0 direct=1 weightb=1 open_gop=0 weightp=2 keyint=250 keyint_min=23 scenecut=40 intra_refresh=0 rc_lookahead=40 rc=crf mbtree=1 crf=23.0 qcomp=0.60 qpmin=0 qpmax=69 qpstep=4 ip_ratio=1.40 aq=1:1.00\n",
            "Output #0, mp4, to 'y-snip.mp4':\n",
            "  Metadata:\n",
            "    software        : Lavf59.27.100\n",
            "    encoder         : Lavf58.76.100\n",
            "  Stream #0:0: Video: h264 (avc1 / 0x31637661), yuvj420p(pc, bt470bg/unknown/unknown, progressive), 1280x720, q=2-31, 23 fps, 11776 tbn\n",
            "    Metadata:\n",
            "      encoder         : Lavc58.134.100 libx264\n",
            "    Side data:\n",
            "      cpb: bitrate max/min/avg: 0/0/0 buffer size: 0 vbv_delay: N/A\n",
            "frame=  202 fps= 23 q=-1.0 Lsize=    1944kB time=00:00:08.65 bitrate=1840.8kbits/s speed=0.997x    \n",
            "video:1941kB audio:0kB subtitle:0kB other streams:0kB global headers:0kB muxing overhead: 0.165730%\n",
            "\u001b[1;36m[libx264 @ 0x59489626d400] \u001b[0mframe I:1     Avg QP:22.58  size:120634\n",
            "\u001b[1;36m[libx264 @ 0x59489626d400] \u001b[0mframe P:52    Avg QP:21.71  size: 28301\n",
            "\u001b[1;36m[libx264 @ 0x59489626d400] \u001b[0mframe B:149   Avg QP:28.81  size:  2648\n",
            "\u001b[1;36m[libx264 @ 0x59489626d400] \u001b[0mconsecutive B-frames:  0.5%  3.0%  1.5% 95.0%\n",
            "\u001b[1;36m[libx264 @ 0x59489626d400] \u001b[0mmb I  I16..4:  8.4% 85.5%  6.1%\n",
            "\u001b[1;36m[libx264 @ 0x59489626d400] \u001b[0mmb P  I16..4:  0.6%  1.9%  1.1%  P16..4: 31.8%  9.3% 11.7%  0.0%  0.0%    skip:43.8%\n",
            "\u001b[1;36m[libx264 @ 0x59489626d400] \u001b[0mmb B  I16..4:  0.1%  0.1%  0.2%  B16..8: 23.1%  2.1%  0.7%  direct: 0.6%  skip:73.2%  L0:51.9% L1:46.0% BI: 2.1%\n",
            "\u001b[1;36m[libx264 @ 0x59489626d400] \u001b[0m8x8 transform intra:58.6% inter:71.6%\n",
            "\u001b[1;36m[libx264 @ 0x59489626d400] \u001b[0mcoded y,uvDC,uvAC intra: 72.5% 81.1% 42.2% inter: 7.2% 10.1% 4.0%\n",
            "\u001b[1;36m[libx264 @ 0x59489626d400] \u001b[0mi16 v,h,dc,p: 21% 59% 15%  5%\n",
            "\u001b[1;36m[libx264 @ 0x59489626d400] \u001b[0mi8 v,h,dc,ddl,ddr,vr,hd,vl,hu: 16% 38% 29%  3%  1%  1%  3%  2%  5%\n",
            "\u001b[1;36m[libx264 @ 0x59489626d400] \u001b[0mi4 v,h,dc,ddl,ddr,vr,hd,vl,hu: 30% 34% 10%  4%  4%  4%  4%  5%  4%\n",
            "\u001b[1;36m[libx264 @ 0x59489626d400] \u001b[0mi8c dc,h,v,p: 28% 44% 23%  5%\n",
            "\u001b[1;36m[libx264 @ 0x59489626d400] \u001b[0mWeighted P-Frames: Y:0.0% UV:0.0%\n",
            "\u001b[1;36m[libx264 @ 0x59489626d400] \u001b[0mref P L0: 67.9%  7.4% 16.1%  8.5%\n",
            "\u001b[1;36m[libx264 @ 0x59489626d400] \u001b[0mref B L0: 76.2% 19.6%  4.2%\n",
            "\u001b[1;36m[libx264 @ 0x59489626d400] \u001b[0mref B L1: 90.5%  9.5%\n",
            "\u001b[1;36m[libx264 @ 0x59489626d400] \u001b[0mkb/s:1809.83\n"
          ]
        }
      ]
    }
  ]
}